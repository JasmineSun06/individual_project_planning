{
 "cells": [
  {
   "cell_type": "markdown",
   "id": "47239aad-d388-4168-b7fa-c9c1ec2b267c",
   "metadata": {},
   "source": [
    "Broad Question (#3): We are interested in demand forecasting, namely, what time windows are most likely to have large number of simultaneous players. This is because we need to ensure that the number of licenses on hand is sufficiently large to accommodate all parallel players with high probability.\n",
    "\n",
    "Specific question: Can the start time and duration of a session be used to predict the time window with the largest number of simultaneous players in the \"sessions.csv\" dataset?"
   ]
  }
 ],
 "metadata": {
  "kernelspec": {
   "display_name": "R",
   "language": "R",
   "name": "ir"
  },
  "language_info": {
   "codemirror_mode": "r",
   "file_extension": ".r",
   "mimetype": "text/x-r-source",
   "name": "R",
   "pygments_lexer": "r",
   "version": "4.3.3"
  }
 },
 "nbformat": 4,
 "nbformat_minor": 5
}
